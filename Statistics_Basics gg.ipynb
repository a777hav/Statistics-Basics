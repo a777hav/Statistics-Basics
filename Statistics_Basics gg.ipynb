{
  "nbformat": 4,
  "nbformat_minor": 0,
  "metadata": {
    "colab": {
      "provenance": []
    },
    "kernelspec": {
      "name": "python3",
      "display_name": "Python 3"
    },
    "language_info": {
      "name": "python"
    }
  },
  "cells": [
    {
      "cell_type": "code",
      "execution_count": null,
      "metadata": {
        "id": "UF2Xr9Ig5-0a"
      },
      "outputs": [],
      "source": [
        "# 1. What is statistics, and why is it important?\n",
        "# Statistics is basically about studying numbers, data and patterns.\n",
        "# It’s super important because it helps us understand information better and make smart decisions based on that.\n",
        "\n",
        "# 2. What are the two main types of statistics?\n",
        "# - Descriptive Statistics\n",
        "# - Inferential Statistics\n",
        "\n",
        "# 3. What are descriptive statistics?\n",
        "# These are the stats that just describe or summarize the data you have, like averages, percentages, etc.\n",
        "\n",
        "# 4. What is inferential statistics?\n",
        "# Inferential statistics is when you take a small set of data and make guesses or conclusions about a bigger group.\n",
        "\n",
        "# 5. What is sampling in statistics?\n",
        "# Sampling is like picking a small group from a bigger crowd to study, instead of checking everyone.\n",
        "\n",
        "# 6. What are the different types of sampling methods?\n",
        "# - Simple Random Sampling\n",
        "# - Systematic Sampling\n",
        "# - Stratified Sampling\n",
        "# - Cluster Sampling\n",
        "# - Convenience Sampling\n",
        "\n",
        "# 7. What is the difference between random and non-random sampling?\n",
        "# Random sampling is purely based on luck — everyone has a fair shot.\n",
        "# Non-random is when selection is not fair and might be biased.\n",
        "\n",
        "# 8. Define and give examples of qualitative and quantitative data\n",
        "# - Qualitative: Non-number stuff, like colors or brands.\n",
        "# - Quantitative: Number stuff, like scores or salary.\n",
        "\n",
        "# 9. What are the different types of data in statistics?\n",
        "# - Nominal\n",
        "# - Ordinal\n",
        "# - Interval\n",
        "# - Ratio\n",
        "\n",
        "# 10. Explain nominal, ordinal, interval, and ratio levels of measurement\n",
        "# - Nominal: Just names (e.g., colors, gender)\n",
        "# - Ordinal: Names with order (e.g., ranks 1st, 2nd, 3rd)\n",
        "# - Interval: Numbers with equal gaps but no true zero (e.g., temperature)\n",
        "# - Ratio: Numbers with a true zero (e.g., weight)\n",
        "\n",
        "# 11. What is the measure of central tendency?\n",
        "# It's a fancy way of saying where most data points are gathered (like the center of data).\n",
        "\n",
        "# 12. Define mean, median, and mode\n",
        "# - Mean: Normal average.\n",
        "# - Median: Middle value.\n",
        "# - Mode: Number that appears the most.\n",
        "\n",
        "# 13. What is the significance of the measure of central tendency?\n",
        "# It gives you a rough idea about the \"typical\" value you can expect from a dataset.\n",
        "\n",
        "# 14. What is variance, and how is it calculated?\n",
        "# Variance tells you how spread out your data is. You calculate it by finding the average of squared differences from the mean.\n",
        "\n",
        "# 15. What is standard deviation, and why is it important?\n",
        "# It tells how much your data spreads around the mean. A big standard deviation means the numbers are more spread out.\n",
        "\n",
        "# 16. Define and explain the term range in statistics\n",
        "# Range is just the difference between the biggest and smallest numbers in your data.\n",
        "\n",
        "# 17. What is the difference between variance and standard deviation?\n",
        "# Variance is in squared units, while standard deviation brings it back to the normal scale.\n",
        "\n",
        "# 18. What is skewness in a dataset?\n",
        "# Skewness talks about whether data leans more towards one side (right or left) instead of being balanced.\n",
        "\n",
        "# 19. What does it mean if a dataset is positively or negatively skewed?\n",
        "# - Positively skewed: Long tail on the right side.\n",
        "# - Negatively skewed: Long tail on the left side.\n",
        "\n",
        "# 20. Define and explain kurtosis\n",
        "# Kurtosis tells you if your data has heavy tails or light tails compared to a normal distribution.\n",
        "\n",
        "# 21. What is the purpose of covariance?\n",
        "# Covariance shows if two variables are moving in the same or opposite direction.\n",
        "\n",
        "# 22. What does correlation measure in statistics?\n",
        "# Correlation measures both how strong and what direction the relationship between two variables is.\n",
        "\n",
        "# 23. What is the difference between covariance and correlation?\n",
        "# Covariance shows direction only, but correlation tells strength and direction both.\n",
        "\n",
        "# 24. What are some real-world applications of statistics?\n",
        "# - Weather forecasting\n",
        "# - Sports performance\n",
        "# - Business profit analysis\n",
        "# - Medicine trials\n",
        "\n",
        "\n",
        "\n",
        "\n"
      ]
    },
    {
      "cell_type": "markdown",
      "source": [
        "# Practical Coding Section\n"
      ],
      "metadata": {
        "id": "R184p4D16vv7"
      }
    },
    {
      "cell_type": "code",
      "source": [
        "# 1. How do you calculate the mean, median, and mode of a dataset?\n",
        "import numpy as np\n",
        "from scipy import stats\n",
        "\n",
        "data = [15, 20, 35, 40, 50]\n",
        "\n",
        "mean_value = np.mean(data)\n",
        "median_value = np.median(data)\n",
        "mode_value = stats.mode(data, keepdims=True).mode[0]\n",
        "\n",
        "print(\"Mean:\", mean_value)\n",
        "print(\"Median:\", median_value)\n",
        "print(\"Mode:\", mode_value)"
      ],
      "metadata": {
        "colab": {
          "base_uri": "https://localhost:8080/"
        },
        "id": "5tCr_wxC6w_h",
        "outputId": "885ee691-2c64-4d12-da27-6987deb0eb0c"
      },
      "execution_count": 24,
      "outputs": [
        {
          "output_type": "stream",
          "name": "stdout",
          "text": [
            "Mean: 32.0\n",
            "Median: 35.0\n",
            "Mode: 15\n"
          ]
        }
      ]
    },
    {
      "cell_type": "code",
      "source": [
        "# 2. Python program to compute variance and standard deviation\n",
        "variance_value = np.var(data)\n",
        "std_deviation_value = np.std(data)\n",
        "\n",
        "print(\"Variance:\", variance_value)\n",
        "print(\"Standard Deviation:\", std_deviation_value)"
      ],
      "metadata": {
        "colab": {
          "base_uri": "https://localhost:8080/"
        },
        "id": "xI94mpFF62vL",
        "outputId": "1ab94054-843c-48cb-8a87-8691acb1ac26"
      },
      "execution_count": 25,
      "outputs": [
        {
          "output_type": "stream",
          "name": "stdout",
          "text": [
            "Variance: 166.0\n",
            "Standard Deviation: 12.884098726725126\n"
          ]
        }
      ]
    },
    {
      "cell_type": "code",
      "source": [
        "# 3. Create a dataset and classify it into nominal, ordinal, interval, and ratio types\n",
        "nominal_data = ['Dog', 'Cat', 'Bird']\n",
        "ordinal_data = ['Low', 'Medium', 'High']\n",
        "interval_data = [30, 40, 50] # Celsius temperatures\n",
        "ratio_data = [5, 10, 20] # Weight in kg"
      ],
      "metadata": {
        "id": "diypAxVc67Jh"
      },
      "execution_count": 26,
      "outputs": []
    },
    {
      "cell_type": "code",
      "source": [
        "# 4. Implement sampling techniques like random sampling and stratified sampling\n",
        "import pandas as pd\n",
        "\n",
        "df = pd.DataFrame({\n",
        "    'Name': ['Tom', 'Jerry', 'Spike', 'Tyke', 'Butch'],\n",
        "    'Group': ['A', 'A', 'B', 'B', 'A']\n",
        "})\n",
        "\n",
        "# Random sampling\n",
        "random_sample = df.sample(2)\n",
        "print(\"Random Sample:\\n\", random_sample)\n",
        "\n",
        "# Stratified sampling\n",
        "stratified_sample = df.groupby('Group', group_keys=False).apply(lambda x: x.sample(1))\n",
        "print(\"Stratified Sample:\\n\", stratified_sample)"
      ],
      "metadata": {
        "colab": {
          "base_uri": "https://localhost:8080/"
        },
        "id": "MrRL89JQ6-oh",
        "outputId": "22d9350f-3ad8-42c4-b5a5-5b11023c501d"
      },
      "execution_count": 27,
      "outputs": [
        {
          "output_type": "stream",
          "name": "stdout",
          "text": [
            "Random Sample:\n",
            "     Name Group\n",
            "4  Butch     A\n",
            "0    Tom     A\n",
            "Stratified Sample:\n",
            "     Name Group\n",
            "0    Tom     A\n",
            "2  Spike     B\n"
          ]
        },
        {
          "output_type": "stream",
          "name": "stderr",
          "text": [
            "<ipython-input-27-da421629d090>:14: DeprecationWarning: DataFrameGroupBy.apply operated on the grouping columns. This behavior is deprecated, and in a future version of pandas the grouping columns will be excluded from the operation. Either pass `include_groups=False` to exclude the groupings or explicitly select the grouping columns after groupby to silence this warning.\n",
            "  stratified_sample = df.groupby('Group', group_keys=False).apply(lambda x: x.sample(1))\n"
          ]
        }
      ]
    },
    {
      "cell_type": "code",
      "source": [
        "# 5. Write a Python function to calculate the range of a dataset\n",
        "def calc_range(numbers):\n",
        "    return max(numbers) - min(numbers)\n",
        "\n",
        "print(\"Range:\", calc_range(data))"
      ],
      "metadata": {
        "colab": {
          "base_uri": "https://localhost:8080/"
        },
        "id": "ZY6sx3qY7Cw5",
        "outputId": "c07f7499-2d1d-4ab3-9581-39d59d08c7eb"
      },
      "execution_count": 28,
      "outputs": [
        {
          "output_type": "stream",
          "name": "stdout",
          "text": [
            "Range: 35\n"
          ]
        }
      ]
    },
    {
      "cell_type": "code",
      "source": [
        "# 6. Create a dataset and plot its histogram to visualize skewness\n",
        "import matplotlib.pyplot as plt\n",
        "\n",
        "plt.hist(data, bins=5)\n",
        "plt.title('Histogram of Data')\n",
        "plt.show()"
      ],
      "metadata": {
        "colab": {
          "base_uri": "https://localhost:8080/",
          "height": 452
        },
        "id": "i-8WH4Jk7FlR",
        "outputId": "1d791cc4-0c0d-495a-d378-32564cb300aa"
      },
      "execution_count": 29,
      "outputs": [
        {
          "output_type": "display_data",
          "data": {
            "text/plain": [
              "<Figure size 640x480 with 1 Axes>"
            ],
            "image/png": "[encoded data removed]"
          },
          "metadata": {}
        }
      ]
    },
    {
      "cell_type": "code",
      "source": [
        "# 7. Calculate skewness and kurtosis of a dataset\n",
        "from scipy.stats import skew, kurtosis\n",
        "\n",
        "print(\"Skewness:\", skew(data))\n",
        "print(\"Kurtosis:\", kurtosis(data))\n"
      ],
      "metadata": {
        "colab": {
          "base_uri": "https://localhost:8080/"
        },
        "id": "Qh5YQLQK7IhR",
        "outputId": "3a466162-a540-4d5e-ae7f-c1a4edc5fddb"
      },
      "execution_count": 30,
      "outputs": [
        {
          "output_type": "stream",
          "name": "stdout",
          "text": [
            "Skewness: -0.02524827011333854\n",
            "Kurtosis: -1.4510814341704166\n"
          ]
        }
      ]
    },
    {
      "cell_type": "code",
      "source": [
        "# 8. Generate a dataset and demonstrate positive and negative skewness\n",
        "positive_skew = [1, 2, 2, 3, 10]\n",
        "negative_skew = [10, 8, 6, 5, 5]\n",
        "\n",
        "print(\"Positive Skewness:\", skew(positive_skew))\n",
        "print(\"Negative Skewness:\", skew(negative_skew))"
      ],
      "metadata": {
        "colab": {
          "base_uri": "https://localhost:8080/"
        },
        "id": "6BqHqJpx7Lx6",
        "outputId": "2ab7fc98-e88f-4587-8c0a-3a677138aab7"
      },
      "execution_count": 31,
      "outputs": [
        {
          "output_type": "stream",
          "name": "stdout",
          "text": [
            "Positive Skewness: 1.3608927294433224\n",
            "Negative Skewness: 0.6122692078855394\n"
          ]
        }
      ]
    },
    {
      "cell_type": "code",
      "source": [
        "# 9. Python script to calculate covariance between two datasets\n",
        "x = [2, 4, 6, 8]\n",
        "y = [5, 7, 9, 11]\n",
        "\n",
        "covariance_matrix = np.cov(x, y)\n",
        "print(\"Covariance Matrix:\\n\", covariance_matrix)"
      ],
      "metadata": {
        "colab": {
          "base_uri": "https://localhost:8080/"
        },
        "id": "aawYR7oz7O-x",
        "outputId": "e079f845-368c-4b10-c288-a63986831222"
      },
      "execution_count": 32,
      "outputs": [
        {
          "output_type": "stream",
          "name": "stdout",
          "text": [
            "Covariance Matrix:\n",
            " [[6.66666667 6.66666667]\n",
            " [6.66666667 6.66666667]]\n"
          ]
        }
      ]
    },
    {
      "cell_type": "code",
      "source": [
        "# 10. Python script to calculate the correlation coefficient between two datasets\n",
        "correlation_matrix = np.corrcoef(x, y)\n",
        "print(\"Correlation Coefficient:\\n\", correlation_matrix)\n"
      ],
      "metadata": {
        "colab": {
          "base_uri": "https://localhost:8080/"
        },
        "id": "604CNDhP7Rwh",
        "outputId": "5b160b7c-a944-4674-da52-5affa1a4a5e0"
      },
      "execution_count": 33,
      "outputs": [
        {
          "output_type": "stream",
          "name": "stdout",
          "text": [
            "Correlation Coefficient:\n",
            " [[1. 1.]\n",
            " [1. 1.]]\n"
          ]
        }
      ]
    },
    {
      "cell_type": "code",
      "source": [
        "# 11. Create a scatter plot to visualize the relationship between two variables\n",
        "plt.scatter(x, y)\n",
        "plt.title('Scatter Plot')\n",
        "plt.xlabel('X Values')\n",
        "plt.ylabel('Y Values')\n",
        "plt.show()\n"
      ],
      "metadata": {
        "colab": {
          "base_uri": "https://localhost:8080/",
          "height": 472
        },
        "id": "g6Zfc4HR7UVx",
        "outputId": "b108bbfa-0e7b-4806-e61b-86d0707c3599"
      },
      "execution_count": 34,
      "outputs": [
        {
          "output_type": "display_data",
          "data": {
            "text/plain": [
              "<Figure size 640x480 with 1 Axes>"
            ],
            "image/png": "[encoded data removed]"
          },
          "metadata": {}
        }
      ]
    },
    {
      "cell_type": "code",
      "source": [
        "# 12. Implement and compare simple random sampling and systematic sampling\n",
        "# Random Sampling\n",
        "rand_sample = df.sample(2)\n",
        "\n",
        "# Systematic Sampling (every 2nd row)\n",
        "sys_sample = df.iloc[::2]\n",
        "\n",
        "print(\"Random Sample:\\n\", rand_sample)\n",
        "print(\"Systematic Sample:\\n\", sys_sample)\n"
      ],
      "metadata": {
        "colab": {
          "base_uri": "https://localhost:8080/"
        },
        "id": "SNNt27Ef7WQp",
        "outputId": "09b6b142-a1ef-4793-d4e9-87672eba40b7"
      },
      "execution_count": 35,
      "outputs": [
        {
          "output_type": "stream",
          "name": "stdout",
          "text": [
            "Random Sample:\n",
            "     Name Group\n",
            "4  Butch     A\n",
            "2  Spike     B\n",
            "Systematic Sample:\n",
            "     Name Group\n",
            "0    Tom     A\n",
            "2  Spike     B\n",
            "4  Butch     A\n"
          ]
        }
      ]
    },
    {
      "cell_type": "code",
      "source": [
        "# 13. Calculate the mean, median, and mode of grouped data\n",
        "values = [20, 30, 40, 50]\n",
        "frequencies = [1, 3, 2, 4]\n",
        "\n",
        "grouped_mean = np.average(values, weights=frequencies)\n",
        "\n",
        "print(\"Grouped Mean:\", grouped_mean)"
      ],
      "metadata": {
        "colab": {
          "base_uri": "https://localhost:8080/"
        },
        "id": "9m9PpSsy7aZx",
        "outputId": "0e8b8606-f8e9-4957-c6d7-7d3bd2899805"
      },
      "execution_count": 36,
      "outputs": [
        {
          "output_type": "stream",
          "name": "stdout",
          "text": [
            "Grouped Mean: 39.0\n"
          ]
        }
      ]
    },
    {
      "cell_type": "code",
      "source": [
        "# 14. Simulate data using Python and calculate its central tendency and dispersion\n",
        "sim_data = np.random.randint(10, 100, 30)\n",
        "print(\"Simulated Data Mean:\", np.mean(sim_data))\n",
        "print(\"Simulated Data Standard Deviation:\", np.std(sim_data))"
      ],
      "metadata": {
        "colab": {
          "base_uri": "https://localhost:8080/"
        },
        "id": "67sxL2kZ7crh",
        "outputId": "ba8588de-c7c7-4a93-d5ae-1f106428a673"
      },
      "execution_count": 37,
      "outputs": [
        {
          "output_type": "stream",
          "name": "stdout",
          "text": [
            "Simulated Data Mean: 59.9\n",
            "Simulated Data Standard Deviation: 25.28550309301096\n"
          ]
        }
      ]
    },
    {
      "cell_type": "code",
      "source": [
        "# 15.  Use NumPy or pandas to summarize a dataset’s descriptive statistics\n",
        "summary = pd.DataFrame(data).describe()\n",
        "print(summary)"
      ],
      "metadata": {
        "colab": {
          "base_uri": "https://localhost:8080/"
        },
        "id": "rWe31qCW7hj6",
        "outputId": "59da1c72-aeb2-4c75-9f70-002452977ca8"
      },
      "execution_count": 38,
      "outputs": [
        {
          "output_type": "stream",
          "name": "stdout",
          "text": [
            "              0\n",
            "count   5.00000\n",
            "mean   32.00000\n",
            "std    14.40486\n",
            "min    15.00000\n",
            "25%    20.00000\n",
            "50%    35.00000\n",
            "75%    40.00000\n",
            "max    50.00000\n"
          ]
        }
      ]
    },
    {
      "cell_type": "code",
      "source": [
        "# 16. Plot a boxplot to understand spread and identify outliers\n",
        "plt.boxplot(data)\n",
        "plt.title('Boxplot')\n",
        "plt.show()\n"
      ],
      "metadata": {
        "colab": {
          "base_uri": "https://localhost:8080/",
          "height": 452
        },
        "id": "UeQRFZzm7wIB",
        "outputId": "43270099-73cd-4ddc-a03c-96b774a0fc66"
      },
      "execution_count": 39,
      "outputs": [
        {
          "output_type": "display_data",
          "data": {
            "text/plain": [
              "<Figure size 640x480 with 1 Axes>"
            ],
            "image/png": "[encoded data removed]"
          },
          "metadata": {}
        }
      ]
    },
    {
      "cell_type": "code",
      "source": [
        "# 17. Calculate the interquartile range (IQR) of a dataset\n",
        "Q1 = np.percentile(data, 25)\n",
        "Q3 = np.percentile(data, 75)\n",
        "iqr = Q3 - Q1\n",
        "print(\"Interquartile Range (IQR):\", iqr)"
      ],
      "metadata": {
        "colab": {
          "base_uri": "https://localhost:8080/"
        },
        "id": "KSv8qdOr7yBJ",
        "outputId": "6663530d-6af7-4522-fee3-457754cb592b"
      },
      "execution_count": 40,
      "outputs": [
        {
          "output_type": "stream",
          "name": "stdout",
          "text": [
            "Interquartile Range (IQR): 20.0\n"
          ]
        }
      ]
    },
    {
      "cell_type": "code",
      "source": [
        "# 18. Implement Z-score normalization\n",
        "z_score_norm = stats.zscore(data)\n",
        "print(\"Z-Scores:\", z_score_norm)"
      ],
      "metadata": {
        "colab": {
          "base_uri": "https://localhost:8080/"
        },
        "id": "vwpa08nB70Ji",
        "outputId": "557fc135-b29e-4f72-df4b-75794901683e"
      },
      "execution_count": 41,
      "outputs": [
        {
          "output_type": "stream",
          "name": "stdout",
          "text": [
            "Z-Scores: [-1.31945589 -0.93138063  0.23284516  0.62092042  1.39707095]\n"
          ]
        }
      ]
    },
    {
      "cell_type": "code",
      "source": [
        "# 19. Compare two datasets using their standard deviations\n",
        "dataset1 = np.random.randint(10, 50, 10)\n",
        "dataset2 = np.random.randint(60, 100, 10)\n",
        "\n",
        "print(\"Dataset1 Std Dev:\", np.std(dataset1))\n",
        "print(\"Dataset2 Std Dev:\", np.std(dataset2))"
      ],
      "metadata": {
        "colab": {
          "base_uri": "https://localhost:8080/"
        },
        "id": "3fiP60x-72h5",
        "outputId": "1f3e0cc5-3595-46a0-c8ed-150211eb7212"
      },
      "execution_count": 42,
      "outputs": [
        {
          "output_type": "stream",
          "name": "stdout",
          "text": [
            "Dataset1 Std Dev: 12.416118556135006\n",
            "Dataset2 Std Dev: 11.66233252827238\n"
          ]
        }
      ]
    },
    {
      "cell_type": "code",
      "source": [
        "# 20. Visualize covariance using a heatmap\n",
        "import seaborn as sns\n",
        "\n",
        "cov_mat = np.cov([x, y])\n",
        "sns.heatmap(cov_mat, annot=True, cmap=\"Blues\")\n",
        "plt.title('Covariance Heatmap')\n",
        "plt.show()\n"
      ],
      "metadata": {
        "colab": {
          "base_uri": "https://localhost:8080/",
          "height": 452
        },
        "id": "PzEhuxQL8CnZ",
        "outputId": "5b2d23e9-cc79-46ff-bf30-7a01f52b726a"
      },
      "execution_count": 43,
      "outputs": [
        {
          "output_type": "display_data",
          "data": {
            "text/plain": [
              "<Figure size 640x480 with 2 Axes>"
            ],
            "image/png": "[encoded data removed]"
          },
          "metadata": {}
        }
      ]
    },
    {
      "cell_type": "code",
      "source": [
        "# 21. Use seaborn to create a correlation matrix for a dataset\n",
        "corr_mat = pd.DataFrame({'X': x, 'Y': y}).corr()\n",
        "sns.heatmap(corr_mat, annot=True, cmap=\"YlGnBu\")\n",
        "plt.title('Correlation Matrix')\n",
        "plt.show()"
      ],
      "metadata": {
        "colab": {
          "base_uri": "https://localhost:8080/",
          "height": 452
        },
        "id": "R4o5-uzz8FAy",
        "outputId": "1a80ac0d-4676-44b0-ef00-6dea28fc3c39"
      },
      "execution_count": 47,
      "outputs": [
        {
          "output_type": "display_data",
          "data": {
            "text/plain": [
              "<Figure size 640x480 with 2 Axes>"
            ],
            "image/png": "[encoded data removed]"
          },
          "metadata": {}
        }
      ]
    },
    {
      "cell_type": "code",
      "source": [
        "# 22.  Generate a dataset and implement both variance and standard deviation computations>\n",
        "import numpy as np\n",
        "\n",
        "# Generate a random dataset of 50 values\n",
        "data = np.random.randint(1, 100, 50)\n",
        "\n",
        "# Compute the variance and standard deviation\n",
        "variance = np.var(data)\n",
        "std_deviation = np.std(data)\n",
        "\n",
        "# Print the results\n",
        "print(f\"Variance: {variance}\")\n",
        "print(f\"Standard Deviation: {std_deviation}\")\n"
      ],
      "metadata": {
        "colab": {
          "base_uri": "https://localhost:8080/"
        },
        "id": "Gxb-X5CJ8MGp",
        "outputId": "18ef4eac-ae36-4bf6-eacf-60bacb3b14ba"
      },
      "execution_count": 48,
      "outputs": [
        {
          "output_type": "stream",
          "name": "stdout",
          "text": [
            "Variance: 831.9316\n",
            "Standard Deviation: 28.84322450767251\n"
          ]
        }
      ]
    },
    {
      "cell_type": "code",
      "source": [
        "# 23. Visualize skewness and kurtosis using Python libraries\n",
        "sns.histplot(data, kde=True)\n",
        "plt.title('Skewness and Kurtosis Visualization')\n",
        "plt.show()\n"
      ],
      "metadata": {
        "colab": {
          "base_uri": "https://localhost:8080/",
          "height": 452
        },
        "id": "Emys2Nh08H04",
        "outputId": "d32ae8e3-3a85-4934-93a5-a42f3f87f126"
      },
      "execution_count": 45,
      "outputs": [
        {
          "output_type": "display_data",
          "data": {
            "text/plain": [
              "<Figure size 640x480 with 1 Axes>"
            ],
            "image/png": "[encoded data removed]"
          },
          "metadata": {}
        }
      ]
    },
    {
      "cell_type": "code",
      "source": [
        "# 24. Implement Pearson and Spearman correlation coefficients\n",
        "pearson_corr = stats.pearsonr(x, y)\n",
        "spearman_corr = stats.spearmanr(x, y)\n",
        "\n",
        "print(\"Pearson Correlation:\", pearson_corr)\n",
        "print(\"Spearman Correlation:\", spearman_corr)"
      ],
      "metadata": {
        "colab": {
          "base_uri": "https://localhost:8080/"
        },
        "id": "lTonaAQD8Jt5",
        "outputId": "e7c28f53-99c0-495d-a330-4347f3c99ac2"
      },
      "execution_count": 46,
      "outputs": [
        {
          "output_type": "stream",
          "name": "stdout",
          "text": [
            "Pearson Correlation: PearsonRResult(statistic=np.float64(0.9999999999999999), pvalue=np.float64(0.0))\n",
            "Spearman Correlation: SignificanceResult(statistic=np.float64(1.0), pvalue=np.float64(0.0))\n"
          ]
        }
      ]
    }
  ]
}